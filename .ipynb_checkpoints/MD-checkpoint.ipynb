{
 "cells": [
  {
   "cell_type": "markdown",
   "metadata": {},
   "source": [
    "## Molecular dynamics simulations\n",
    "using gromacs"
   ]
  },
  {
   "cell_type": "code",
   "execution_count": null,
   "metadata": {},
   "outputs": [],
   "source": [
    "#importing\n",
    "import os\n",
    "import numpy as np\n",
    "import pymol\n",
    "import shutil\n",
    "from pymol import cmd\n",
    "from pymbar import MBAR\n",
    "import pymbar"
   ]
  },
  {
   "cell_type": "code",
   "execution_count": 3,
   "metadata": {},
   "outputs": [
    {
     "data": {
      "text/plain": [
       "'2HYY'"
      ]
     },
     "execution_count": 3,
     "metadata": {},
     "output_type": "execute_result"
    }
   ],
   "source": [
    "pymol.finish_launching(['pymol', '-qci'])\n",
    "pdb_id = '2HYY'\n",
    "cmd.fetch(pdb_id, type = 'pdb')"
   ]
  },
  {
   "cell_type": "code",
   "execution_count": null,
   "metadata": {},
   "outputs": [],
   "source": [
    "cmd.save(pdb_id + '_A.pdb', 'chain A') # getting a pdb file of interest"
   ]
  },
  {
   "cell_type": "markdown",
   "metadata": {},
   "source": [
    "some pdb files have missing atoms, etc.<br>\n",
    "pdb2pqr is a good tool to fix such problems<br>\n",
    "submit and retreive a fixed pdb from http://nbcr-222.ucsd.edu/pdb2pqr_2.1.1/"
   ]
  },
  {
   "cell_type": "markdown",
   "metadata": {},
   "source": [
    "Before starting with the preparation of MD files, we still need to fix one more small thing.<br>\n",
    "copy the pqr file to another file and<br>\n",
    "find atom(s) named OXT and remove or comment-out these lines<br>\n",
    "from:<br>\n",
    "ATOM   4393  OXT GLN   498      15.989  25.512 -12.514 -0.5500 1.4000<br>\n",
    "to:<br>\n",
    "#ATOM   4393  OXT GLN   498      15.989  25.512 -12.514 -0.5500 1.4000\n"
   ]
  },
  {
   "cell_type": "code",
   "execution_count": 5,
   "metadata": {},
   "outputs": [
    {
     "data": {
      "text/plain": [
       "0"
      ]
     },
     "execution_count": 5,
     "metadata": {},
     "output_type": "execute_result"
    }
   ],
   "source": [
    "fixed_pdb_file = '2HYY_pqr_fix_OXT.pdb'# this would be the fixed pdb file\n",
    "sys_name = 'ABL1'\n",
    "comm = 'cat pdb2gmx_in_param | gmx pdb2gmx -f '+fixed_pdb_file+' -ignh -p '+sys_name\n",
    "os.system(comm)\n",
    "# pdb2gmx_in_param file contains \"1 1\" - defining the force field and water model\n",
    "# one can run this command also interactively in the terminal (probably a better option)"
   ]
  },
  {
   "cell_type": "markdown",
   "metadata": {},
   "source": [
    "this command generates two files:\n",
    " - conf.gro which contains the coordinates of all protein atoms (essentially, this file is another format of a pdb file)\n",
    " - sys_name+’.top’, which is a topology file of the protein, containing the interaction parameters. this file is used to calculate the energy of the system\n"
   ]
  },
  {
   "cell_type": "code",
   "execution_count": 12,
   "metadata": {},
   "outputs": [
    {
     "data": {
      "text/plain": [
       "0"
      ]
     },
     "execution_count": 12,
     "metadata": {},
     "output_type": "execute_result"
    }
   ],
   "source": [
    "comm = 'gmx editconf -f conf.gro -o conf.pdb'# convert a gro file to a pdb file\n",
    "os.system(comm)\n",
    "# both files contain coordinates of atoms, but in a different format"
   ]
  },
  {
   "cell_type": "code",
   "execution_count": 8,
   "metadata": {},
   "outputs": [],
   "source": [
    "# extracting and saving a pdb file of the ligand\n",
    "cmd.save('STI.pdb', 'chain A and resn STI')"
   ]
  },
  {
   "cell_type": "markdown",
   "metadata": {},
   "source": [
    "## ligand FF\n",
    "Force field parameters are easily defined for proteins, as they are composed of 20 amino acids for which we have a predefined sets of parameters.<br>\n",
    "As ligands are very diverse molecules, each one has to be parameterized separately. <br>\n",
    "For this reason, we need to do the following:\n",
    " - get the ligand (STI.pdb) and submit it to ATB http://atb.uq.edu.au/<br>\n",
    " - get parameters and optimized PDB of the ligand (pdb and itp files of the molecular dynamics MD files tab)**<br>\n",
    " - see results page https://atb.uq.edu.au/molecule.py?molid=370482<br>\n",
    " - align the downloaded pdb file of the ligand to the original structure and save it as a new pdb file (note tp use set retain_order in pymol for doing this, so that the order of atoms stays the same)<br>\n",
    " - combine conf.pdb (pdb file generated two cells above, without ligand) with the optimized and aligned structure of the ligand from one step above (in this example this file is saved at STI/STI_opt_align.pdb)<br>\n",
    " - save this combined new pdb file containing both protein and ligand to conf_lig.pdb<br>\n",
    " - note to change residue name TRIA to STI or other way around (residue names have to match in both itp and pdb files - as well as the atom order!)<br>\n",
    "**note to download either all-atom or united-atom of both pdb and itp files (using all-atom itp with united-atom pdb and other way around would not work)"
   ]
  },
  {
   "cell_type": "code",
   "execution_count": 13,
   "metadata": {},
   "outputs": [
    {
     "data": {
      "text/plain": [
       "0"
      ]
     },
     "execution_count": 13,
     "metadata": {},
     "output_type": "execute_result"
    }
   ],
   "source": [
    "comm = 'gmx editconf -f conf_lig.pdb -o conf_lig.gro'\n",
    "os.system(comm)\n",
    "# Now we convert this newly made pdb file to a gro format that can be used by the program"
   ]
  },
  {
   "cell_type": "markdown",
   "metadata": {},
   "source": [
    "## fix topology (add the ligand)\n",
    "Now we still need to fix the topology file, i.e., we need to include the parameters of the ligand by doing the following:\n",
    " - at the top add a line: #include \"./STI/STI.itp\"<br>\n",
    " - at the end add a line: STI                 1<br>\n",
    "\n",
    "use vimdiff to see the difference between ABL1.top ABL1_lig.top <br>\n",
    "in terminal run:<br>\n",
    "vimdiff ABL1.top ABL1_lig.top\n"
   ]
  },
  {
   "cell_type": "code",
   "execution_count": 14,
   "metadata": {},
   "outputs": [
    {
     "data": {
      "text/plain": [
       "0"
      ]
     },
     "execution_count": 14,
     "metadata": {},
     "output_type": "execute_result"
    }
   ],
   "source": [
    "# a few more steps and we can start simulations\n",
    "comm = 'gmx editconf -f conf_lig.gro -bt cubic -d 0.8 -o conf_lig_box.gro'\n",
    "os.system(comm)\n",
    "# here, we define our simulation box\n",
    "# we add a layer of 0.8 nm of water around the protein \n",
    "#to ensure that no interaction are formed through periodic images\n",
    "# (our cutoff is 1.4 nm, which is 2 x 0.7 nm)"
   ]
  },
  {
   "cell_type": "code",
   "execution_count": 17,
   "metadata": {},
   "outputs": [
    {
     "data": {
      "text/plain": [
       "'ABL1_lig.top'"
      ]
     },
     "execution_count": 17,
     "metadata": {},
     "output_type": "execute_result"
    }
   ],
   "source": [
    "# this command adds water molecules in the box\n",
    "comm = 'gmx solvate -cp conf_lig_box.gro -p ABL1_lig.top -o ABL1_solv.gro'\n",
    "os.system(comm)\n",
    "# and also in the topology\n",
    "shutil.move('ABL1_lig.top', 'ABL1_lig_solv.top') # we just rename some of these files\n",
    "shutil.move('#ABL1_lig.top.1#', 'ABL1_lig.top') # we just rename some of these files"
   ]
  },
  {
   "cell_type": "markdown",
   "metadata": {},
   "source": [
    "To run any simulation, we need to provide three type of information:\n",
    " - initial coordinates of the system (gro file)\n",
    " - interactions in the system (topology file)\n",
    " - simulation parameters, e.g. temperature, time-step, etc. (mdp file)"
   ]
  },
  {
   "cell_type": "code",
   "execution_count": 19,
   "metadata": {},
   "outputs": [
    {
     "data": {
      "text/plain": [
       "0"
      ]
     },
     "execution_count": 19,
     "metadata": {},
     "output_type": "execute_result"
    }
   ],
   "source": [
    "# so here, we prepare an input for energy minimisation run\n",
    "comm = 'gmx grompp -f MDPs/minim_water.mdp -c ABL1_solv.gro -p ABL1_lig_solv.top -o em_water.tpr'\n",
    "# using MDPs/minim_water.mdp file for simulation parameters\n",
    "# ABL1_solv.gro as an initial configuration\n",
    "# ABL1_lig_solv.top as a topology file providing definitions of the interactions in the system\n",
    "os.system(comm)\n",
    "# this command gives em_water.tpr file as its output\n",
    "# which is one file combining all the input data"
   ]
  },
  {
   "cell_type": "code",
   "execution_count": 21,
   "metadata": {},
   "outputs": [
    {
     "data": {
      "text/plain": [
       "0"
      ]
     },
     "execution_count": 21,
     "metadata": {},
     "output_type": "execute_result"
    }
   ],
   "source": [
    "# we use that file to run energy minimisation simulation\n",
    "comm = 'gmx mdrun -v -deffnm em_water'\n",
    "os.system(comm)"
   ]
  },
  {
   "cell_type": "code",
   "execution_count": 22,
   "metadata": {},
   "outputs": [
    {
     "data": {
      "text/plain": [
       "0"
      ]
     },
     "execution_count": 22,
     "metadata": {},
     "output_type": "execute_result"
    }
   ],
   "source": [
    "# to visualize the final configuration\n",
    "comm = 'gmx editconf -f em_water.gro -o em_water.pdb'#convert to pdb\n",
    "os.system(comm)\n",
    "# open with pymol\n",
    "# pymol em_water.pdb"
   ]
  },
  {
   "cell_type": "code",
   "execution_count": 23,
   "metadata": {},
   "outputs": [
    {
     "data": {
      "text/plain": [
       "256"
      ]
     },
     "execution_count": 23,
     "metadata": {},
     "output_type": "execute_result"
    }
   ],
   "source": [
    "# do short equlibration\n",
    "comm = 'gmx grompp -f MDPs/RF_md.mdp -c em_water.gro -p ABL1_lig_solv.top -o short_eq_md -maxwarn 1'\n",
    "os.system(comm)\n",
    "# again, use 3 files:\n",
    "# same topology as before\n",
    "# em_water.gro, which was the output from the previous step\n",
    "# MDPs/RF_md.mdp file providing simulation parameters (take a look at the file for more details)\n",
    "\n",
    "# and here we run a short MD simulation, which equilibrates our system\n",
    "# gets the system to 300K and 1bar\n",
    "# note that normally this equilibration step is much longer an\n",
    "comm = 'gmx mdrun -v -deffnm short_eq_md'\n",
    "os.system(comm)\n"
   ]
  },
  {
   "cell_type": "markdown",
   "metadata": {},
   "source": [
    "important output files:\n",
    " - short_eq_md.xtc and short_eq_md.trr are trajectories (configurations of the system at different time points - used to make a movie)\n",
    " - short_eq_md.edr is an energy trajectory, storing the energies, temperature, pressure, etc."
   ]
  },
  {
   "cell_type": "markdown",
   "metadata": {},
   "source": [
    "## Free energy calculations\n",
    "To do free energy calculations, we need to define a change in the system that we are interested in, e.g. mutation of one amino acid into another.<br>\n",
    "Here, we will look at an example of mutating the THR residue at position 315 into ALA<br>\n",
    "Practically, to do this, we need to modify the topology of the system, such that this modification reflects the change of the threonine in question into an alanine.<br>\n",
    "Take a look at the chemical structure of these amino acids - https://en.wikipedia.org/wiki/Amino_acid#/media/File:Amino_Acids.svg\n",
    "<br><br>\n",
    "If we remove an OH group and a methyl group (CH3) from a threonine, we would get an alanine. This is exactly what we are going to do, by adjusting the parameters of these atoms in the topology:\n",
    " - van der Waals parameters to so-called DUM parameters (non-interacting particle)\n",
    " - and partial charges to 0 (also non-interacting charges)\n",
    "Look at lines 932-935 in the FE/ABL1_lig_T315A.top file<br>\n",
    "Also, use vimdiff to see the difference between ABL1_lig.top and FE/ABL1_lig_T315A.top<br>\n",
    "run in terminal<br>\n",
    "vimdiff ABL1_lig.top  FE/ABL1_lig_T315A.top<br>\n",
    "or<br>\n",
    "diff ABL1_lig.top  FE/ABL1_lig_T315A.top\n"
   ]
  },
  {
   "cell_type": "markdown",
   "metadata": {},
   "source": [
    "To calculate the free energy difference, we need to slowly perturb our system from one state to another. Finally, we use the formula stated in L12_MD_analysis.pdf, slide 16. <br>\n",
    "Practically, this means we run our simulations at different values of lambda, ranging from 0 – 1<br>\n",
    "Here, we will use 11 equidistant lambda points\n"
   ]
  },
  {
   "cell_type": "code",
   "execution_count": 5,
   "metadata": {},
   "outputs": [],
   "source": [
    "# preparation functions\n",
    "def get_mdp(l_position, LPs_str):\n",
    "    f = open('../MDPs/FE_RF_md.mdp')\n",
    "    s = ''\n",
    "    for l in f:\n",
    "        if 'init-lambda-state' in l:# this line in the mdp file defines the lambda point\n",
    "            s+= l.replace('lambda_position', l_position)\n",
    "        elif 'fep-lambdas' in l:# this line defines all other lambda points\n",
    "            s+= l.replace('LPs_text', LPs_str)\n",
    "        else:s+=l\n",
    "    f.close()\n",
    "    return s\n",
    "# for more details on simulation parameters, see\n",
    "# http://manual.gromacs.org/documentation/2018/user-guide/mdp-options.html\n",
    "\n",
    "\n",
    "def get_fds(LPs):\n",
    "    LPs.sort()\n",
    "    LPs_str = ''\n",
    "    fds = []\n",
    "    for l in LPs:\n",
    "        l_str = '{:.2f}'.format(l)\n",
    "        LPs_str += l_str + ' '\n",
    "        fd_l = 'L_'+l_str\n",
    "        fds.append(fd_l)\n",
    "        if not os.path.isdir(fd_l):\n",
    "            os.mkdir(fd_l)\n",
    "    return fds, LPs_str\n",
    "\n",
    "def prep_FE_calc(LPs):\n",
    "    fds, LPs_str = get_fds(LPs)\n",
    "    LPs_list_str = LPs_str.split()\n",
    "    run_f = 'run_FE_calc.sh'\n",
    "    frun = open(run_f, 'w')\n",
    "    current_gro = '../../short_eq_md.gro'\n",
    "    for l_i in range(len(LPs)):\n",
    "        l_str = LPs_list_str[l_i]\n",
    "        fd_l = fds[l_i]\n",
    "        l_pos = str(l_i)\n",
    "        new_mdp_str = get_mdp(l_pos, LPs_str)\n",
    "        f = open(fd_l + '/FE_RF_md.mdp', 'w')\n",
    "        f.write(new_mdp_str)\n",
    "        f.close()\n",
    "        frun.write('cd '+fd_l + '\\n')\n",
    "        frun.write('gmx grompp -f FE_RF_md.mdp -c '+current_gro+' -p ../../ABL1_lig_T315A.top -o FE_md -maxwarn 2\\n')\n",
    "        frun.write('gmx mdrun -v -deffnm FE_md\\ncd ../\\n\\n')\n",
    "        current_gro = '../'+fd_l + '/FE_md.gro'\n",
    "    frun.close()\n",
    "    os.system('chmod a+x '+run_f)\n"
   ]
  },
  {
   "cell_type": "markdown",
   "metadata": {},
   "source": [
    "To calculate the free energy difference, we need to slowly perturb our system from one state to another. Finally, we use the formula stated in L12_MD_analysis.pdf, slide 16. <br>\n",
    "Practically, this means we run our simulations at different values of lambda, ranging from 0 – 1<br>\n",
    "Here, we will use 11 equidistant lambda points\n",
    "\n",
    "Preparation functions were written to follow this protocol:\n",
    " - start simulation at lambda = 0 from the equilibrated structure (output gro file of the equilibration simulation)\n",
    " - continue at lambda = 0.1 from the last output structure of the simulation at lambda = 0\n",
    " - continue at lambda = 0.2 from the last output structure of the simulation at lambda = 0.1\n",
    " - …\n",
    " - continue at lambda = 1 from the last output structure of the simulation at lambda = 0.9\n",
    "For all simulations, use the same perturbation topology that defines our perturbation (mutation) from THR315 into ALA<br>\n",
    "Take a look at and compare different mdp files in different folders corresponding to different lambda points.\n"
   ]
  },
  {
   "cell_type": "code",
   "execution_count": 4,
   "metadata": {},
   "outputs": [
    {
     "name": "stdout",
     "output_type": "stream",
     "text": [
      "[0.  0.1 0.2 0.3 0.4 0.5 0.6 0.7 0.8 0.9 1. ]\n"
     ]
    }
   ],
   "source": [
    "if not 'FE' in os.getcwd():\n",
    "    os.chdir('FE')\n",
    "#LPs = np.arange(0,1.001, 0.5)\n",
    "LPs = np.arange(0,1.001, 0.1)# this is a set of lambda points\n",
    "print(LPs)\n",
    "prep_FE_calc(LPs)\n",
    "# this function make a run_FE_calc.sh file, that can be used to run the simulations"
   ]
  },
  {
   "cell_type": "markdown",
   "metadata": {},
   "source": [
    "to run FE calculations, run in terminal:<br>\n",
    "./run_FE_calc.sh"
   ]
  },
  {
   "cell_type": "markdown",
   "metadata": {},
   "source": [
    "## analysis\n",
    "important data (energies and the derivatives of the energy with respect to lambda) is stored in *.xvg files"
   ]
  },
  {
   "cell_type": "code",
   "execution_count": 2,
   "metadata": {},
   "outputs": [],
   "source": [
    "# functions for extracting the data\n",
    "def read_xvg_data(f_path, skip = 0):\n",
    "    f = open(f_path)\n",
    "    data = []\n",
    "    fc = 0\n",
    "    for l in f:\n",
    "        if l.startswith('#') or l.startswith('@'):continue\n",
    "        if fc<skip:\n",
    "            fc += 1\n",
    "            continue\n",
    "        temp = []\n",
    "        for v in l.split():\n",
    "            temp.append(float(v))\n",
    "        data.append(temp)\n",
    "    return np.array(data)\n",
    "\n",
    "def read_data(f_path, dl_max = 1., skip = 0):\n",
    "    eps = 0.00001\n",
    "    f = open(f_path)\n",
    "    data = []\n",
    "    dhdl = []\n",
    "    c = 1\n",
    "    lp2use = []\n",
    "    lp2use_pos = []\n",
    "    fc = 0\n",
    "    for l in f:\n",
    "        if l.startswith('#'):continue\n",
    "        if l.startswith('@'):\n",
    "            if 'fep-lambda =' in l:\n",
    "                sim_l = l.split()[-1]\n",
    "                if sim_l.endswith('\"'):sim_l = sim_l[:-1]\n",
    "                sim_l = float(sim_l)\n",
    "            if l.startswith('@ s') and 'legend' in l:\n",
    "                if \"\\\\xD\\\\f{}H \\\\xl\\\\f{}\" in l:\n",
    "                    temp_l = l.split()[-1]\n",
    "                    if temp_l.endswith('\"'):temp_l = temp_l[:-1]\n",
    "                    temp_l = float(temp_l)\n",
    "                    if (abs(temp_l-sim_l) - eps) < dl_max:\n",
    "                        lp2use.append(temp_l)\n",
    "                        lp2use_pos.append(c)\n",
    "                c += 1\n",
    "            continue\n",
    "        if fc<skip:\n",
    "            fc += 1\n",
    "            continue\n",
    "        temp = []\n",
    "        temp_l = l.split()\n",
    "        for p in lp2use_pos:\n",
    "            temp.append(float(temp_l[p]))\n",
    "        data.append(temp)\n",
    "        dhdl.append(float(temp_l[2]))\n",
    "    data.insert(0, lp2use)\n",
    "    return np.array(data), np.array(dhdl), sim_l\n"
   ]
  },
  {
   "cell_type": "code",
   "execution_count": 9,
   "metadata": {},
   "outputs": [],
   "source": [
    "if not 'FE' in os.getcwd():\n",
    "    os.chdir('FE')\n",
    "LPs = np.arange(0,1.001, 0.1)\n",
    "fds, LPs_str = get_fds(LPs)\n",
    "data_bar_sys = {}\n",
    "dhdl_sys = {}\n",
    "for fd in fds: # looping over folders\n",
    "    ene_file = fd + '/FE_md.xvg'# the xvg file\n",
    "    temp_bar_data, temp_dhdl_data, sl = read_data(ene_file, 1.1) # reading (extracting) the data\n",
    "    data_bar_sys[sl] = temp_bar_data # energies\n",
    "#    dhdl_sys[sl] = read_xvg_data(ene_file)\n",
    "    dhdl_sys[sl] = temp_dhdl_data # derivatives of the energy with respect to lambda\n",
    "\n",
    "T = 300\n",
    "beta = 0.00831451 * T\n"
   ]
  },
  {
   "cell_type": "code",
   "execution_count": 11,
   "metadata": {},
   "outputs": [
    {
     "data": {
      "text/plain": [
       "array([23.66012 , 28.179176, 28.983208, ..., 24.502056, 16.488228,\n",
       "       21.179205])"
      ]
     },
     "execution_count": 11,
     "metadata": {},
     "output_type": "execute_result"
    }
   ],
   "source": [
    "dhdl_sys"
   ]
  },
  {
   "cell_type": "code",
   "execution_count": 25,
   "metadata": {},
   "outputs": [],
   "source": [
    "dhdl_list = [np.average(dhdl_sys[l]) for l in dhdl_sys]\n",
    "# we calculate averages at each of the lambda points \n",
    "# of the derivatives of the energy with respect to lambda\n",
    "dhdl_list"
   ]
  },
  {
   "cell_type": "code",
   "execution_count": 27,
   "metadata": {},
   "outputs": [
    {
     "name": "stdout",
     "output_type": "stream",
     "text": [
      "54.366514415387385\n",
      "46.61304063187124\n"
     ]
    }
   ],
   "source": [
    "import scipy\n",
    "# we evaluate the integral (L12_MD_analysis.pdf, slide 16) numerically\n",
    "# trapezoidal rule\n",
    "print(scipy.integrate.trapz(dhdl_list, LPs))\n",
    "\n",
    "# Simpson's rule - a bit more accurate\n",
    "print(scipy.integrate.simps(dhdl_list, LPs))"
   ]
  },
  {
   "cell_type": "markdown",
   "metadata": {},
   "source": [
    "However, this approach give rather inaccurate estimates if the curve to be integrated is not smooth enough. Which is not the case in this example.<br>\n",
    "A better estimate can be obtained using Bennett acceptance ratio (BAR) method"
   ]
  },
  {
   "cell_type": "code",
   "execution_count": 10,
   "metadata": {},
   "outputs": [
    {
     "data": {
      "text/plain": [
       "array([0. , 0.1, 0.2, 0.3, 0.4, 0.5, 0.6, 0.7, 0.8, 0.9, 1. ])"
      ]
     },
     "execution_count": 10,
     "metadata": {},
     "output_type": "execute_result"
    }
   ],
   "source": [
    "data_bar_sys[0.0][0] # here we have lambda points"
   ]
  },
  {
   "cell_type": "code",
   "execution_count": 12,
   "metadata": {},
   "outputs": [],
   "source": [
    "# data preparation (adjusting the format)\n",
    "def prep_mbar_input(data_bar_sys):\n",
    "    ncol = data_bar_sys[0.0].shape[1]\n",
    "    Es = np.empty((0,ncol))\n",
    "    nfr = []\n",
    "    for l in data_bar_sys:\n",
    "        temp_bar_data = data_bar_sys[l][1:]\n",
    "        Es = np.append(Es, temp_bar_data, axis = 0)\n",
    "        nfr.append(temp_bar_data.shape[0])\n",
    "    Es = Es.T\n",
    "    return Es, np.array(nfr)"
   ]
  },
  {
   "cell_type": "code",
   "execution_count": 13,
   "metadata": {},
   "outputs": [],
   "source": [
    "Es, nfr = prep_mbar_input(data_bar_sys)"
   ]
  },
  {
   "cell_type": "code",
   "execution_count": 14,
   "metadata": {},
   "outputs": [
    {
     "data": {
      "text/plain": [
       "(11, 11011)"
      ]
     },
     "execution_count": 14,
     "metadata": {},
     "output_type": "execute_result"
    }
   ],
   "source": [
    "print(Es.shape)# matrix with energies\n",
    "print(sum(nfr))# list with number of frames in each of simulations (different lambda points)"
   ]
  },
  {
   "cell_type": "code",
   "execution_count": 21,
   "metadata": {},
   "outputs": [],
   "source": [
    "# calculate the free energy using multistate BAR\n",
    "def calc_dg_mbar(Es, nfr):\n",
    "    mbar = MBAR(Es/beta, nfr)\n",
    "    temp_res = mbar.getFreeEnergyDifferences()\n",
    "    Deltaf_ij, dDeltaf_ij = temp_res['Delta_f'], temp_res['dDelta_f']\n",
    "    return Deltaf_ij*beta, dDeltaf_ij*beta, mbar\n"
   ]
  },
  {
   "cell_type": "code",
   "execution_count": 22,
   "metadata": {},
   "outputs": [
    {
     "name": "stdout",
     "output_type": "stream",
     "text": [
      "[ 0.         19.61280655 24.18997278 26.24478041 27.8736723  29.45676858\n",
      " 31.02183172 32.56852982 34.18335392 35.9920138  38.04507535]\n",
      "[0.         0.23467253 0.26392206 0.27256119 0.27716149 0.28059361\n",
      " 0.28368491 0.28664175 0.28935479 0.29171655 0.29378254]\n"
     ]
    }
   ],
   "source": [
    "dg, ddg, mbar = calc_dg_mbar(Es, nfr)\n",
    "print(dg[0])# free energy difference from lambda = 0 to other lambda points,\n",
    "# with the last number being the total free energy difference\n",
    "print(ddg[0]) # similarly, estimated error\n",
    "# with the last number being the error estimate of the total free energy difference"
   ]
  },
  {
   "cell_type": "code",
   "execution_count": 24,
   "metadata": {},
   "outputs": [
    {
     "data": {
      "text/plain": [
       "array([ 0.        , 19.61280655, 24.18997278, 26.24478041, 27.8736723 ,\n",
       "       29.45676858, 31.02183172, 32.56852982, 34.18335392, 35.9920138 ,\n",
       "       38.04507535])"
      ]
     },
     "execution_count": 24,
     "metadata": {},
     "output_type": "execute_result"
    }
   ],
   "source": [
    "dg[0][0] # free energy difference"
   ]
  },
  {
   "cell_type": "markdown",
   "metadata": {},
   "source": [
    "However, we just calculated the free-energy difference upon THR315ALA mutation in the bound state. To obtain a meaningful result, we would need to do the same calculation in the apo (protein without ligand) state and subtract the two values, which would give us the difference in the free-energy of binding upon the mutations, i.e., the effect of the mutation on binding affinity.<br>\n",
    "To avoid these extra calculations, let’s approximate the mutation in the apo state with the same mutation in water (also called hydration free energy).\n",
    "Hydration free energy of THR residue is -20 kJ/mol (see Oostenbrink2004, Table 18, in additional_material of https://bokuprod-my.sharepoint.com/personal/dpetrov_office365_boku_ac_at/_layouts/15/onedrive.aspx?id=%2Fpersonal%2Fdpetrov%5Foffice365%5Fboku%5Fac%5Fat%2FDocuments%2Fposo%2Flectures%2Fteaching%2FFH%2Flectures%5FPDFs&originalPath=aHR0cHM6Ly9ib2t1cHJvZC1teS5zaGFyZXBvaW50LmNvbS86ZjovZy9wZXJzb25hbC9kcGV0cm92X29mZmljZTM2NV9ib2t1X2FjX2F0L0VobjVUZ29tVWo1SHA4MENDUGFrUENzQmVLbzhoeXBDbUZGNjJzcE9rbEs5QVE_cnRpbWU9NTNYMXVUdDExMGc).\n",
    "Hydration free energy of ALA residue is 8 kJ/mol, which in total gives (ALA - THR) = +8 –(-20) [kJ/mol] = 28 kJ/mol free-energy difference of mutating a threonine residue into an alanine in water. \n",
    "This, together with the above calculation, gives the free-energy difference of BOUND – APO = 38 – 28 [kJ/mol] = 10 kJ/mol. This in turn suggests that this mutation reduces the binding affinity of the ligand, as an increase in the free energy corresponds to a less probable state, i.e., positive free-energy difference corresponds to a decreased binding affinity.\n"
   ]
  },
  {
   "cell_type": "markdown",
   "metadata": {},
   "source": [
    "## Project tasks\n",
    "Start with a protein of choice (Exercise 1 and 2)\n",
    "* chose one of the extracted structures (Exercise 1 and 2)\n",
    "* prepare the system for MD simulations\n",
    "  - if a ligand in present in the chosen structure (might be quite demanding to perform these steps):\n",
    "    - get FF parameters for the ligand\n",
    "    - obtain topology for the protein and combine it with the topology of the ligand\n",
    "  - solvate protein (with ligand) in a box of water and perform a short equilibration\n",
    "* prepare and run free energy calculations of mutating one of the residues of interest to ALA\n",
    "* analysis\n",
    "  - calculate free energy difference of the perturbation process (use BAR and trapezoidal integration) and calculate ddG from the known free energy difference between these two residues in water (hydration free energy, approximation, see the cell above)\n",
    "* discuss results\n",
    "  - what does the resulting ddG mean\n",
    "  - how does it compare to the experimental data if available\n",
    "  - what are potential pitfalls of the approach and how could one address them\n"
   ]
  },
  {
   "cell_type": "code",
   "execution_count": null,
   "metadata": {},
   "outputs": [],
   "source": []
  }
 ],
 "metadata": {
  "kernelspec": {
   "display_name": "Python 2",
   "language": "python",
   "name": "python2"
  },
  "language_info": {
   "codemirror_mode": {
    "name": "ipython",
    "version": 2
   },
   "file_extension": ".py",
   "mimetype": "text/x-python",
   "name": "python",
   "nbconvert_exporter": "python",
   "pygments_lexer": "ipython2",
   "version": "2.7.15"
  }
 },
 "nbformat": 4,
 "nbformat_minor": 4
}
